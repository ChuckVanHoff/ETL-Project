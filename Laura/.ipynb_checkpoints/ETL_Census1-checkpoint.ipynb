{
 "cells": [
  {
   "cell_type": "markdown",
   "metadata": {},
   "source": [
    "# ETL Project: Census data (National and State Population and employment counts)"
   ]
  },
  {
   "cell_type": "code",
   "execution_count": 1,
   "metadata": {},
   "outputs": [],
   "source": [
    "# Dependencies\n",
    "import numpy as np\n",
    "import pandas as pd\n",
    "import matplotlib.pyplot as plt\n",
    "import requests\n",
    "from census import Census\n",
    "import gmaps\n",
    "import json\n",
    "import time\n",
    "\n",
    "# Renders figures in the notebook instead of just showing the object\n",
    "%matplotlib inline\n",
    "\n",
    "\n",
    "# Census & gmaps API Keys\n",
    "from config import (census_api_key, gkey)\n",
    "c = Census(census_api_key, year=2017)\n",
    "\n",
    "# Configure gmaps\n",
    "gmaps.configure(api_key=gkey)\n"
   ]
  },
  {
   "cell_type": "markdown",
   "metadata": {},
   "source": [
    "## Extract State Data"
   ]
  },
  {
   "cell_type": "code",
   "execution_count": 50,
   "metadata": {},
   "outputs": [],
   "source": [
    "#Census ACS 5\n",
    "census_pop= c.acs5.get((\"B01003_001E\",\"B23025_002E\",\"B23025_007E\",\"NAME\"), {'for': 'state:*'})\n",
    "\n",
    "# Convert to DataFrame\n",
    "census_pop_pd = pd.DataFrame(census_pop)\n",
    "                                \n",
    "census_pop_pd = census_pop_pd.rename(columns={\"B01003_001E\":\"Total population\",\"B23025_002E\":\"Employment labor force\", \n",
    "                                                \"B23025_007E\": \"Employment not labor force\",\"NAME\": \"Name\"})\n",
    "\n",
    "census_pop_pd.head(0)"
   ]
  },
  {
   "cell_type": "markdown",
   "metadata": {},
   "source": [
    "## Transform State Data"
   ]
  },
  {
   "cell_type": "code",
   "execution_count": 49,
   "metadata": {},
   "outputs": [],
   "source": [
    "# Dropped variable state (numeric code)\n",
    "new_census=census_pop_pd.drop(['state'],axis=1)\n",
    "# Set index to 'Name' (state name)\n",
    "new_census=new_census.set_index('Name')\n",
    "# Transform to python dictionary\n",
    "employ=new_census.to_dict('index')"
   ]
  },
  {
   "cell_type": "markdown",
   "metadata": {},
   "source": [
    "## SKIPPED: Load the State Data into the Heroku Mongo database (cloud based)"
   ]
  },
  {
   "cell_type": "code",
   "execution_count": 4,
   "metadata": {},
   "outputs": [
    {
     "name": "stderr",
     "output_type": "stream",
     "text": [
      "C:\\Users\\Laura\\Anaconda3\\envs\\pythondata\\lib\\site-packages\\ipykernel_launcher.py:8: DeprecationWarning: insert is deprecated. Use insert_one or insert_many instead.\n",
      "  \n"
     ]
    },
    {
     "data": {
      "text/plain": [
       "ObjectId('5c71672e0113e327f809bda4')"
      ]
     },
     "execution_count": 4,
     "metadata": {},
     "output_type": "execute_result"
    }
   ],
   "source": [
    "# import pymongo\n",
    "# conn = <remote connection link removed>\n",
    "# client = pymongo.MongoClient(conn)\n",
    "\n",
    "# db = client.<remote database link removed>\n",
    "\n",
    "# # Insert a document into the collection\n",
    "# db.state_census.insert_one(employ)\n"
   ]
  },
  {
   "cell_type": "markdown",
   "metadata": {},
   "source": [
    "## Transform Census State \"Count\" Data into National Data"
   ]
  },
  {
   "cell_type": "code",
   "execution_count": 47,
   "metadata": {},
   "outputs": [
    {
     "name": "stdout",
     "output_type": "stream",
     "text": [
      "{'National': {'Total population': 324473370.0, 'Employment labor force': 163446545.0, 'Employment not labor force': 95187431.0}}\n"
     ]
    }
   ],
   "source": [
    "#Drop variables we won't sum\n",
    "temp=census_pop_pd.drop(['state'],axis=1)\n",
    "temp=temp.drop(['Name'],axis=1)\n",
    "#Sum column variables to create national level data - list\n",
    "national=temp.sum(axis=0)\n",
    "#Convert national list into a panda data frame then convert into python dictionary\n",
    "national_df=pd.DataFrame(national)\n",
    "national_df= national_df.rename(columns={0:\"National\"})\n",
    "national_dict=national_df.to_dict()\n",
    "print(national_dict)"
   ]
  },
  {
   "cell_type": "markdown",
   "metadata": {},
   "source": [
    "## SKIPPED: Load Census National \"Count\" Data into "
   ]
  },
  {
   "cell_type": "code",
   "execution_count": 48,
   "metadata": {},
   "outputs": [
    {
     "data": {
      "text/plain": [
       "<pymongo.results.InsertOneResult at 0x18450da9d88>"
      ]
     },
     "execution_count": 48,
     "metadata": {},
     "output_type": "execute_result"
    }
   ],
   "source": [
    "# # Insert a document into the collection\n",
    "# db.national_census.insert_one(national_dict)"
   ]
  },
  {
   "cell_type": "code",
   "execution_count": null,
   "metadata": {},
   "outputs": [],
   "source": []
  }
 ],
 "metadata": {
  "anaconda-cloud": {},
  "kernelspec": {
   "display_name": "Python 3",
   "language": "python",
   "name": "python3"
  },
  "language_info": {
   "codemirror_mode": {
    "name": "ipython",
    "version": 3
   },
   "file_extension": ".py",
   "mimetype": "text/x-python",
   "name": "python",
   "nbconvert_exporter": "python",
   "pygments_lexer": "ipython3",
   "version": "3.6.8"
  }
 },
 "nbformat": 4,
 "nbformat_minor": 1
}
