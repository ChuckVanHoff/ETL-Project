{
 "cells": [
  {
   "cell_type": "code",
   "execution_count": 3,
   "metadata": {},
   "outputs": [],
   "source": [
    "# Dependencies\n",
    "import numpy as np\n",
    "import pandas as pd\n",
    "import matplotlib.pyplot as plt\n",
    "import requests\n",
    "from census import Census\n",
    "import gmaps\n",
    "import json\n",
    "import time\n",
    "\n",
    "# Renders figures in the notebook instead of just showing the object\n",
    "%matplotlib inline\n",
    "\n",
    "\n",
    "# Census & gmaps API Keys\n",
    "from config import (census_api_key, gkey)\n",
    "c = Census(census_api_key, year=2017)\n",
    "\n",
    "# Configure gmaps\n",
    "gmaps.configure(api_key=gkey)\n"
   ]
  },
  {
   "cell_type": "code",
   "execution_count": 4,
   "metadata": {},
   "outputs": [
    {
     "data": {
      "text/html": [
       "<div>\n",
       "<style scoped>\n",
       "    .dataframe tbody tr th:only-of-type {\n",
       "        vertical-align: middle;\n",
       "    }\n",
       "\n",
       "    .dataframe tbody tr th {\n",
       "        vertical-align: top;\n",
       "    }\n",
       "\n",
       "    .dataframe thead th {\n",
       "        text-align: right;\n",
       "    }\n",
       "</style>\n",
       "<table border=\"1\" class=\"dataframe\">\n",
       "  <thead>\n",
       "    <tr style=\"text-align: right;\">\n",
       "      <th></th>\n",
       "      <th>Total population</th>\n",
       "      <th>Employment labor force</th>\n",
       "      <th>Employment not labor force</th>\n",
       "      <th>Name</th>\n",
       "      <th>state</th>\n",
       "    </tr>\n",
       "  </thead>\n",
       "  <tbody>\n",
       "    <tr>\n",
       "      <th>0</th>\n",
       "      <td>3468963.0</td>\n",
       "      <td>1262220.0</td>\n",
       "      <td>1574064.0</td>\n",
       "      <td>Puerto Rico</td>\n",
       "      <td>72</td>\n",
       "    </tr>\n",
       "    <tr>\n",
       "      <th>1</th>\n",
       "      <td>4850771.0</td>\n",
       "      <td>2233209.0</td>\n",
       "      <td>1642927.0</td>\n",
       "      <td>Alabama</td>\n",
       "      <td>01</td>\n",
       "    </tr>\n",
       "    <tr>\n",
       "      <th>2</th>\n",
       "      <td>738565.0</td>\n",
       "      <td>400622.0</td>\n",
       "      <td>170831.0</td>\n",
       "      <td>Alaska</td>\n",
       "      <td>02</td>\n",
       "    </tr>\n",
       "    <tr>\n",
       "      <th>3</th>\n",
       "      <td>6809946.0</td>\n",
       "      <td>3197116.0</td>\n",
       "      <td>2174225.0</td>\n",
       "      <td>Arizona</td>\n",
       "      <td>04</td>\n",
       "    </tr>\n",
       "    <tr>\n",
       "      <th>4</th>\n",
       "      <td>2977944.0</td>\n",
       "      <td>1366102.0</td>\n",
       "      <td>984959.0</td>\n",
       "      <td>Arkansas</td>\n",
       "      <td>05</td>\n",
       "    </tr>\n",
       "  </tbody>\n",
       "</table>\n",
       "</div>"
      ],
      "text/plain": [
       "   Total population  Employment labor force  Employment not labor force  \\\n",
       "0         3468963.0               1262220.0                   1574064.0   \n",
       "1         4850771.0               2233209.0                   1642927.0   \n",
       "2          738565.0                400622.0                    170831.0   \n",
       "3         6809946.0               3197116.0                   2174225.0   \n",
       "4         2977944.0               1366102.0                    984959.0   \n",
       "\n",
       "          Name state  \n",
       "0  Puerto Rico    72  \n",
       "1      Alabama    01  \n",
       "2       Alaska    02  \n",
       "3      Arizona    04  \n",
       "4     Arkansas    05  "
      ]
     },
     "execution_count": 4,
     "metadata": {},
     "output_type": "execute_result"
    }
   ],
   "source": [
    "#Census ACS 5\n",
    "census_pop= c.acs5.get((\"B01003_001E\",\"B23025_002E\",\"B23025_007E\",\"NAME\"), {'for': 'state:*'})\n",
    "\n",
    "# Convert to DataFrame\n",
    "census_pop_pd = pd.DataFrame(census_pop)\n",
    "                                \n",
    "census_pop_pd = census_pop_pd.rename(columns={\"B01003_001E\":\"Total population\",\"B23025_002E\":\"Employment labor force\", \n",
    "                                                \"B23025_007E\": \"Employment not labor force\",\"NAME\": \"Name\"})\n",
    "\n",
    "\n",
    "\n",
    "census_pop_pd.head()\n",
    "\n"
   ]
  },
  {
   "cell_type": "code",
   "execution_count": 26,
   "metadata": {},
   "outputs": [
    {
     "data": {
      "text/plain": [
       "52"
      ]
     },
     "execution_count": 26,
     "metadata": {},
     "output_type": "execute_result"
    }
   ],
   "source": [
    "new_census=census_pop_pd.drop(['state'],axis=1)\n",
    "new_census=new_census.set_index('Name')\n",
    "employ=new_census.to_dict('index')\n",
    "type(employ)\n",
    "len(employ)"
   ]
  },
  {
   "cell_type": "code",
   "execution_count": 27,
   "metadata": {},
   "outputs": [
    {
     "name": "stderr",
     "output_type": "stream",
     "text": [
      "C:\\Users\\Laura\\Anaconda3\\envs\\pythondata\\lib\\site-packages\\ipykernel_launcher.py:8: DeprecationWarning: insert is deprecated. Use insert_one or insert_many instead.\n",
      "  \n"
     ]
    },
    {
     "data": {
      "text/plain": [
       "ObjectId('5c6f57840113e30ae80c73fa')"
      ]
     },
     "execution_count": 27,
     "metadata": {},
     "output_type": "execute_result"
    }
   ],
   "source": [
    "import pymongo\n",
    "conn = 'mongodb://localhost:27017'\n",
    "client = pymongo.MongoClient(conn)\n",
    "\n",
    "db = client.censusDB\n",
    "\n",
    "# Insert a document into the 'employDB' collection\n",
    "db.employ.insert_one(employ)\n"
   ]
  },
  {
   "cell_type": "code",
   "execution_count": null,
   "metadata": {},
   "outputs": [],
   "source": []
  }
 ],
 "metadata": {
  "anaconda-cloud": {},
  "kernelspec": {
   "display_name": "Python 3",
   "language": "python",
   "name": "python3"
  },
  "language_info": {
   "codemirror_mode": {
    "name": "ipython",
    "version": 3
   },
   "file_extension": ".py",
   "mimetype": "text/x-python",
   "name": "python",
   "nbconvert_exporter": "python",
   "pygments_lexer": "ipython3",
   "version": "3.7.1"
  }
 },
 "nbformat": 4,
 "nbformat_minor": 1
}
